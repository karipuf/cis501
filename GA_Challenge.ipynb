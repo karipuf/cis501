{
 "cells": [
  {
   "cell_type": "markdown",
   "metadata": {},
   "source": [
    "# Google Analytics Challenge!!"
   ]
  },
  {
   "cell_type": "code",
   "execution_count": 27,
   "metadata": {
    "collapsed": true
   },
   "outputs": [],
   "source": [
    "import sklearn\n",
    "import pandas as pd\n",
    "import numpy as np\n",
    "import pylab as pl\n",
    "from itertools import chain\n",
    "from sklearn.ensemble import RandomForestClassifier,RandomForestRegressor"
   ]
  },
  {
   "cell_type": "markdown",
   "metadata": {},
   "source": [
    "## Utility functions"
   ]
  },
  {
   "cell_type": "code",
   "execution_count": 2,
   "metadata": {},
   "outputs": [],
   "source": [
    "def ProcDict(total, keyList=['bounces', 'hits', 'newVisits', 'pageviews', 'transactionRevenue', 'visits'],defValue=0,defFormat=float):\n",
    "    res=[]\n",
    "    tdict=eval(total)\n",
    "    for key in keyList:\n",
    "        try:\n",
    "            res.append(defFormat(tdict[key]))\n",
    "        except KeyError:\n",
    "            res.append(defValue)\n",
    "    return res"
   ]
  },
  {
   "cell_type": "markdown",
   "metadata": {},
   "source": [
    "## Loading in data"
   ]
  },
  {
   "cell_type": "code",
   "execution_count": 42,
   "metadata": {},
   "outputs": [],
   "source": [
    "nTrain=500000\n",
    "nTest=10000\n",
    "\n",
    "# Loading data\n",
    "fdf=pd.read_csv(\"train.csv\",dtype={'fullVisitorId':str})\n",
    "\n",
    "# Selecting a random subset of users for train and test\n",
    "ids=np.random.choice(fdf.fullVisitorId.unique(),nTrain+nTest,replace=False)\n",
    "trainids=set(ids[:nTrain])\n",
    "testids=set(ids[nTrain:])\n",
    "df=fdf[fdf.fullVisitorId.isin(set(ids))].reset_index(drop=True)"
   ]
  },
  {
   "cell_type": "code",
   "execution_count": 57,
   "metadata": {},
   "outputs": [],
   "source": [
    "# Getting the different keytypes\n",
    "#print(set(chain(*list([eval(tmp).keys() for tmp in df.geoNetwork]))))\n",
    "\n",
    "#true=True\n",
    "#print(set(chain(*list([eval(tmp).keys() for tmp in df.trafficSource.head(3)]))))"
   ]
  },
  {
   "cell_type": "markdown",
   "metadata": {},
   "source": [
    "## Feature Engineering"
   ]
  },
  {
   "cell_type": "code",
   "execution_count": 46,
   "metadata": {},
   "outputs": [],
   "source": [
    "keysTotal=['bounces', 'hits', 'newVisits', 'pageviews', 'transactionRevenue', 'visits']\n",
    "totals=pd.DataFrame([ProcDict(tmp,keysTotal) for tmp in df.totals],columns=keysTotal)\n",
    "\n",
    "keysGeo=['continent']\n",
    "continents=pd.DataFrame([ProcDict(tmp,keysGeo,'',str) for tmp in df.geoNetwork],columns=keysGeo)\n",
    "\n",
    "df=pd.concat((df,totals,continents),axis=1)"
   ]
  },
  {
   "cell_type": "code",
   "execution_count": 48,
   "metadata": {
    "collapsed": true
   },
   "outputs": [],
   "source": [
    "df['america']=(df.continent=='Americas').apply(int)\n",
    "df['europe']=(df.continent=='Europe').apply(int)\n",
    "df['asia']=(df.continent=='Asia').apply(int)"
   ]
  },
  {
   "cell_type": "code",
   "execution_count": 49,
   "metadata": {},
   "outputs": [],
   "source": [
    "#df.head()\n",
    "dftrain=df[df.fullVisitorId.isin(trainids)]\n",
    "dftest=df[df.fullVisitorId.isin(testids)]"
   ]
  },
  {
   "cell_type": "code",
   "execution_count": 50,
   "metadata": {},
   "outputs": [],
   "source": [
    "xtrain=dftrain.groupby('fullVisitorId')[['bounces','hits','pageviews','visits','america','europe','asia']].mean()\n",
    "\n",
    "trans=dftrain.groupby('fullVisitorId')['transactionRevenue'].sum()\n",
    "yytrain=np.log(trans+1)\n",
    "ytrain=(yytrain>0).astype(int)"
   ]
  },
  {
   "cell_type": "code",
   "execution_count": 51,
   "metadata": {
    "collapsed": true
   },
   "outputs": [],
   "source": [
    "xtest=dftest.groupby('fullVisitorId')[['bounces','hits','pageviews','visits','america','europe','asia']].mean()\n",
    "\n",
    "trans=dftest.groupby('fullVisitorId')['transactionRevenue'].sum()\n",
    "yytest=np.log(trans+1)\n",
    "ytest=(yytest>0).astype(int)"
   ]
  },
  {
   "cell_type": "markdown",
   "metadata": {},
   "source": [
    "## Classification"
   ]
  },
  {
   "cell_type": "code",
   "execution_count": 52,
   "metadata": {},
   "outputs": [],
   "source": [
    "rf=RandomForestClassifier(n_estimators=200).fit(xtrain,ytrain)"
   ]
  },
  {
   "cell_type": "code",
   "execution_count": 53,
   "metadata": {},
   "outputs": [
    {
     "name": "stdout",
     "output_type": "stream",
     "text": [
      "0.9867\n",
      "0.5526315789473685\n",
      "0.2978723404255319\n"
     ]
    }
   ],
   "source": [
    "print(sklearn.metrics.accuracy_score(ytest,rf.predict(xtest)))\n",
    "print(sklearn.metrics.precision_score(ytest,rf.predict(xtest)))\n",
    "print(sklearn.metrics.recall_score(ytest,rf.predict(xtest)))"
   ]
  },
  {
   "cell_type": "markdown",
   "metadata": {},
   "source": [
    "## Regression"
   ]
  },
  {
   "cell_type": "code",
   "execution_count": 54,
   "metadata": {
    "collapsed": true
   },
   "outputs": [],
   "source": [
    "rrf=RandomForestRegressor(n_estimators=300).fit(xtrain,yytrain)"
   ]
  },
  {
   "cell_type": "code",
   "execution_count": 55,
   "metadata": {},
   "outputs": [
    {
     "data": {
      "text/plain": [
       "1.742262609702321"
      ]
     },
     "execution_count": 55,
     "metadata": {},
     "output_type": "execute_result"
    }
   ],
   "source": [
    "np.sqrt(sklearn.metrics.mean_squared_error(yytest,rrf.predict(xtest)))"
   ]
  },
  {
   "cell_type": "code",
   "execution_count": 56,
   "metadata": {},
   "outputs": [
    {
     "data": {
      "text/plain": [
       "2.1006991483207598"
      ]
     },
     "execution_count": 56,
     "metadata": {},
     "output_type": "execute_result"
    }
   ],
   "source": [
    "np.std(yytest)"
   ]
  },
  {
   "cell_type": "code",
   "execution_count": 16,
   "metadata": {},
   "outputs": [
    {
     "data": {
      "text/plain": [
       "[('bounces', 0.0842248901972804),\n",
       " ('hits', 0.4057101509077649),\n",
       " ('pageviews', 0.44886436712937305),\n",
       " ('visits', 0.0),\n",
       " ('america', 0.03746501759339347),\n",
       " ('europe', 0.01299042106894805),\n",
       " ('asia', 0.010745153103240085)]"
      ]
     },
     "execution_count": 16,
     "metadata": {},
     "output_type": "execute_result"
    }
   ],
   "source": [
    "#list(zip(xtrain.columns,rf.feature_importances_))"
   ]
  }
 ],
 "metadata": {
  "kernelspec": {
   "display_name": "Python 3",
   "language": "python",
   "name": "python3"
  },
  "language_info": {
   "codemirror_mode": {
    "name": "ipython",
    "version": 3
   },
   "file_extension": ".py",
   "mimetype": "text/x-python",
   "name": "python",
   "nbconvert_exporter": "python",
   "pygments_lexer": "ipython3",
   "version": "3.6.5"
  }
 },
 "nbformat": 4,
 "nbformat_minor": 2
}
